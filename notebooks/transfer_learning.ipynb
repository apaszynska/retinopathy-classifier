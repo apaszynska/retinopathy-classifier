{
 "cells": [
  {
   "cell_type": "markdown",
   "id": "56d45349",
   "metadata": {},
   "source": [
    "## Experiment 2: Retinopathy Classification using ViT (Transfer Learning)\n",
    "\n",
    "In this notebook, we will go through the process of training and evaluating a Vision Transformer (ViT) model from the Hugging Face Hub. The goal is to check if a transfer learning approach yields better results than my baseline CNN model."
   ]
  },
  {
   "cell_type": "code",
   "execution_count": 1,
   "id": "e1d6967a",
   "metadata": {},
   "outputs": [
    {
     "name": "stderr",
     "output_type": "stream",
     "text": [
      "/Users/Ola/miniconda3/envs/hf_pytorch_env/lib/python3.10/site-packages/tqdm/auto.py:21: TqdmWarning: IProgress not found. Please update jupyter and ipywidgets. See https://ipywidgets.readthedocs.io/en/stable/user_install.html\n",
      "  from .autonotebook import tqdm as notebook_tqdm\n"
     ]
    }
   ],
   "source": [
    "# main_pytorch_notebook.ipynb\n",
    "\n",
    "# ===================================================================\n",
    "# KROK 1: IMPORTY I KONFIGURACJA\n",
    "# ===================================================================\n",
    "%load_ext autoreload\n",
    "%autoreload 2\n",
    "import torch\n",
    "from sklearn.model_selection import train_test_split\n",
    "\n",
    "from transformers import Trainer, TrainingArguments, AutoImageProcessor\n",
    "from sklearn.metrics import classification_report, confusion_matrix\n",
    "import seaborn as sns\n",
    "import matplotlib.pyplot as plt\n",
    "import numpy as np\n",
    "from transformers import EarlyStoppingCallback\n",
    "from sklearn.utils.class_weight import compute_class_weight\n",
    "from pathlib import Path\n",
    "\n",
    "# Import naszych własnych modułów\n",
    "import utils\n",
    "from config import get_pytorch_vit_config\n",
    "\n",
    "# Wczytaj konfigurację\n",
    "config = get_pytorch_vit_config()\n",
    "\n"
   ]
  },
  {
   "cell_type": "code",
   "execution_count": 2,
   "id": "ef2d6469",
   "metadata": {},
   "outputs": [
    {
     "name": "stdout",
     "output_type": "stream",
     "text": [
      "grade_2 = 700 images\n",
      "grade_3 = 700 images\n",
      "grade_1 = 700 images\n",
      "grade_0 = 700 images\n"
     ]
    }
   ],
   "source": [
    "home_dir = Path.home()\n",
    "data_dir = home_dir/ \"Documents\" / \"retinopathy-classifier\" / \"data\" / \"grouped\"\n",
    "\n",
    "for class_dir in data_dir.iterdir():\n",
    "    if class_dir.is_dir():\n",
    "        count = len(list(class_dir.glob(\"*.tif\")))\n",
    "        print(f\"{class_dir.name} = {count} images\")"
   ]
  },
  {
   "cell_type": "code",
   "execution_count": 3,
   "id": "f7952508",
   "metadata": {},
   "outputs": [
    {
     "name": "stdout",
     "output_type": "stream",
     "text": [
      "Znaleziono 2800 obrazów.\n",
      "Zbiór treningowy: 1792\n",
      "Zbiór walidacyjny: 448\n",
      "Zbiór testowy: 560\n"
     ]
    }
   ],
   "source": [
    "# ===================================================================\n",
    "# KROK 2: WCZYTANIE I PODZIAŁ DANYCH\n",
    "# ===================================================================\n",
    "all_files, all_labels = utils.load_paths_and_labels(config)\n",
    "\n",
    "# Podział na zbiór treningowo-walidacyjny i testowy\n",
    "train_val_files, test_files, train_val_labels, test_labels = train_test_split(\n",
    "    all_files, all_labels,\n",
    "    test_size=config[\"test_split_size\"],\n",
    "    stratify=all_labels,\n",
    "    random_state=config[\"random_seed\"]\n",
    ")\n",
    "\n",
    "# Podział na zbiór treningowy i walidacyjny\n",
    "train_files, val_files, train_labels, val_labels = train_test_split(\n",
    "    train_val_files, train_val_labels,\n",
    "    test_size=config[\"validation_split_size\"],\n",
    "    stratify=train_val_labels,\n",
    "    random_state=config[\"random_seed\"]\n",
    ")\n",
    "\n",
    "print(f\"Zbiór treningowy: {len(train_files)}\")\n",
    "print(f\"Zbiór walidacyjny: {len(val_files)}\")\n",
    "print(f\"Zbiór testowy: {len(test_files)}\")\n"
   ]
  },
  {
   "cell_type": "code",
   "execution_count": 4,
   "id": "e1d183e0",
   "metadata": {},
   "outputs": [
    {
     "name": "stdout",
     "output_type": "stream",
     "text": [
      "Using device: mps\n"
     ]
    }
   ],
   "source": [
    "# Check if the Metal Performance Shaders (MPS) backend is available for Apple Silicon GPUs\n",
    "if torch.backends.mps.is_available():\n",
    "    device = torch.device(\"mps\")\n",
    "else:\n",
    "    # Fallback to CPU if MPS is not available for any reason\n",
    "    device = torch.device(\"cpu\")\n",
    "\n",
    "print(f\"Using device: {device}\")"
   ]
  },
  {
   "cell_type": "code",
   "execution_count": 5,
   "id": "34565bd0",
   "metadata": {},
   "outputs": [
    {
     "name": "stderr",
     "output_type": "stream",
     "text": [
      "/Users/Ola/miniconda3/envs/hf_pytorch_env/lib/python3.10/site-packages/huggingface_hub/file_download.py:943: FutureWarning: `resume_download` is deprecated and will be removed in version 1.0.0. Downloads always resume when possible. If you want to force a new download, use `force_download=True`.\n",
      "  warnings.warn(\n",
      "Some weights of ViTForImageClassification were not initialized from the model checkpoint at rafalosa/diabetic-retinopathy-224-procnorm-vit and are newly initialized because the shapes did not match:\n",
      "- classifier.bias: found shape torch.Size([5]) in the checkpoint and torch.Size([4]) in the model instantiated\n",
      "- classifier.weight: found shape torch.Size([5, 768]) in the checkpoint and torch.Size([4, 768]) in the model instantiated\n",
      "You should probably TRAIN this model on a down-stream task to be able to use it for predictions and inference.\n"
     ]
    },
    {
     "name": "stdout",
     "output_type": "stream",
     "text": [
      "✅ Model został przeniesiony na urządzenie: mps\n"
     ]
    }
   ],
   "source": [
    "# ===================================================================\n",
    "#  STWORZENIE MODELU\n",
    "# ===================================================================\n",
    "# Twoja funkcja create_pytorch_vit_model prawdopodobnie nie potrzebuje\n",
    "# tensora wag, ale przekazanie go nie zaszkodzi.\n",
    "model = utils.create_pytorch_vit_model(config)\n",
    "\n",
    "# Przenieś model na urządzenie zdefiniowane na początku skryptu (mps lub cpu)\n",
    "model.to(device)\n",
    "\n",
    "# Wyświetl poprawny komunikat\n",
    "print(f\"✅ Model został przeniesiony na urządzenie: {device}\")"
   ]
  },
  {
   "cell_type": "code",
   "execution_count": 6,
   "id": "2f55b57b",
   "metadata": {},
   "outputs": [
    {
     "name": "stdout",
     "output_type": "stream",
     "text": [
      "Wagi zbalansowane: [1. 1. 1. 1.]\n",
      "Wagi po ręcznej modyfikacji: [1.  1.5 2.  1. ]\n",
      "✅ Tensor wag został utworzony na urządzeniu 'cpu' i jest gotowy do użycia.\n"
     ]
    }
   ],
   "source": [
    "# Oblicz wagi, aby zrównoważyć niezbalansowane klasy.\n",
    "class_weights = compute_class_weight(\n",
    "    class_weight='balanced',\n",
    "    classes=np.unique(train_labels),\n",
    "    y=train_labels\n",
    ")\n",
    "print(f\"Wagi zbalansowane: {class_weights}\")\n",
    "\n",
    "# Ręcznie zwiększ wagę dla klasy 1, aby model unikał jej przeoczenia.\n",
    "class_weights[1] = class_weights[1] * 1.5\n",
    "class_weights[2] = class_weights[2] * 2.0 # Boost grade 2 even more\n",
    "\n",
    "print(f\"Wagi po ręcznej modyfikacji: {class_weights}\")\n",
    "\n",
    "# --- Krok 3: Stworzenie tensora na właściwym urządzeniu ---\n",
    "# Skonwertuj wagi na tensor PyTorch i przenieś na wykryte urządzenie (mps lub cpu).\n",
    "class_weights_tensor = torch.tensor(class_weights, dtype=torch.float).to(\"cpu\")\n",
    "model.class_weights = class_weights_tensor\n",
    "\n",
    "print(f\"✅ Tensor wag został utworzony na urządzeniu '{class_weights_tensor.device}' i jest gotowy do użycia.\")"
   ]
  },
  {
   "cell_type": "code",
   "execution_count": 7,
   "id": "3afbb267",
   "metadata": {},
   "outputs": [
    {
     "name": "stderr",
     "output_type": "stream",
     "text": [
      "/Users/Ola/miniconda3/envs/hf_pytorch_env/lib/python3.10/site-packages/huggingface_hub/file_download.py:943: FutureWarning: `resume_download` is deprecated and will be removed in version 1.0.0. Downloads always resume when possible. If you want to force a new download, use `force_download=True`.\n",
      "  warnings.warn(\n"
     ]
    },
    {
     "name": "stdout",
     "output_type": "stream",
     "text": [
      "Datasety PyTorch gotowe.\n"
     ]
    }
   ],
   "source": [
    "# ===================================================================\n",
    "# KROK 3: PRZYGOTOWANIE DATASETÓW PYTORCH\n",
    "# ===================================================================\n",
    "# Wczytaj procesor obrazu\n",
    "processor = AutoImageProcessor.from_pretrained(config[\"hf_processor_name\"])\n",
    "\n",
    "# Stwórz obiekty datasetu\n",
    "train_dataset = utils.RetinopathyDataset(paths=train_files, labels=train_labels, processor=processor)\n",
    "val_dataset = utils.RetinopathyDataset(paths=val_files, labels=val_labels, processor=processor)\n",
    "test_dataset = utils.RetinopathyDataset(paths=test_files, labels=test_labels, processor=processor)\n",
    "\n",
    "print(\"Datasety PyTorch gotowe.\")\n"
   ]
  },
  {
   "cell_type": "code",
   "execution_count": 8,
   "id": "334b712c",
   "metadata": {},
   "outputs": [],
   "source": [
    "# -------------------------------------------------------------------\n",
    "# --- Krok 4: Zdefiniuj niestandardową klasę Trainer ---\n",
    "# -------------------------------------------------------------------\n",
    "# Ta klasa jest potrzebna, aby uwzględnić wagi klas podczas liczenia straty.\n",
    "class WeightedLossTrainer(Trainer):\n",
    "    def compute_loss(self, model, inputs, return_outputs=False):\n",
    "        labels = inputs.pop(\"labels\")\n",
    "        outputs = model(**inputs)\n",
    "        logits = outputs.get(\"logits\")\n",
    "        \n",
    "        # Używamy wag, które wcześniej dołączyliśmy do modelu\n",
    "        loss_fct = torch.nn.CrossEntropyLoss(weight=model.class_weights)\n",
    "        \n",
    "        loss = loss_fct(logits.view(-1, self.model.config.num_labels), labels.view(-1))\n",
    "        \n",
    "        return (loss, outputs) if return_outputs else loss\n"
   ]
  },
  {
   "cell_type": "code",
   "execution_count": 9,
   "id": "5f564227",
   "metadata": {},
   "outputs": [
    {
     "name": "stderr",
     "output_type": "stream",
     "text": [
      "/Users/Ola/miniconda3/envs/hf_pytorch_env/lib/python3.10/site-packages/transformers/optimization.py:391: FutureWarning: This implementation of AdamW is deprecated and will be removed in a future version. Use the PyTorch implementation torch.optim.AdamW instead, or set `no_deprecation_warning=True` to disable this warning\n",
      "  warnings.warn(\n"
     ]
    },
    {
     "name": "stdout",
     "output_type": "stream",
     "text": [
      "Rozpoczynanie treningu z Early Stopping...\n"
     ]
    },
    {
     "name": "stderr",
     "output_type": "stream",
     "text": [
      "                                                  \n",
      "  5%|▌         | 28/560 [04:37<1:19:09,  8.93s/it]"
     ]
    },
    {
     "name": "stdout",
     "output_type": "stream",
     "text": [
      "{'eval_loss': 1.2391855716705322, 'eval_accuracy': 0.3482142857142857, 'eval_runtime': 26.6378, 'eval_samples_per_second': 16.818, 'eval_steps_per_second': 1.051, 'epoch': 1.0}\n"
     ]
    },
    {
     "name": "stderr",
     "output_type": "stream",
     "text": [
      "                                                  \n",
      " 10%|█         | 56/560 [09:16<1:15:23,  8.98s/it]"
     ]
    },
    {
     "name": "stdout",
     "output_type": "stream",
     "text": [
      "{'eval_loss': 0.9708247780799866, 'eval_accuracy': 0.6383928571428571, 'eval_runtime': 26.6563, 'eval_samples_per_second': 16.807, 'eval_steps_per_second': 1.05, 'epoch': 2.0}\n"
     ]
    },
    {
     "name": "stderr",
     "output_type": "stream",
     "text": [
      "                                                  \n",
      " 15%|█▌        | 84/560 [13:56<1:12:07,  9.09s/it]"
     ]
    },
    {
     "name": "stdout",
     "output_type": "stream",
     "text": [
      "{'eval_loss': 0.8477305769920349, 'eval_accuracy': 0.6941964285714286, 'eval_runtime': 27.1352, 'eval_samples_per_second': 16.51, 'eval_steps_per_second': 1.032, 'epoch': 3.0}\n"
     ]
    },
    {
     "name": "stderr",
     "output_type": "stream",
     "text": [
      "                                                   \n",
      " 20%|██        | 112/560 [18:40<1:08:31,  9.18s/it]"
     ]
    },
    {
     "name": "stdout",
     "output_type": "stream",
     "text": [
      "{'eval_loss': 0.7954583764076233, 'eval_accuracy': 0.703125, 'eval_runtime': 27.2765, 'eval_samples_per_second': 16.424, 'eval_steps_per_second': 1.027, 'epoch': 4.0}\n"
     ]
    },
    {
     "name": "stderr",
     "output_type": "stream",
     "text": [
      "                                                   \n",
      " 25%|██▌       | 140/560 [23:25<1:04:00,  9.14s/it]"
     ]
    },
    {
     "name": "stdout",
     "output_type": "stream",
     "text": [
      "{'eval_loss': 0.7673434615135193, 'eval_accuracy': 0.6875, 'eval_runtime': 26.8608, 'eval_samples_per_second': 16.679, 'eval_steps_per_second': 1.042, 'epoch': 5.0}\n"
     ]
    },
    {
     "name": "stderr",
     "output_type": "stream",
     "text": [
      "                                                   \n",
      " 30%|███       | 168/560 [28:07<59:26,  9.10s/it]"
     ]
    },
    {
     "name": "stdout",
     "output_type": "stream",
     "text": [
      "{'eval_loss': 0.7407952547073364, 'eval_accuracy': 0.7276785714285714, 'eval_runtime': 26.8393, 'eval_samples_per_second': 16.692, 'eval_steps_per_second': 1.043, 'epoch': 6.0}\n"
     ]
    },
    {
     "name": "stderr",
     "output_type": "stream",
     "text": [
      "                                                   \n",
      " 35%|███▌      | 196/560 [32:49<54:47,  9.03s/it]"
     ]
    },
    {
     "name": "stdout",
     "output_type": "stream",
     "text": [
      "{'eval_loss': 0.7475596070289612, 'eval_accuracy': 0.7075892857142857, 'eval_runtime': 26.7838, 'eval_samples_per_second': 16.727, 'eval_steps_per_second': 1.045, 'epoch': 7.0}\n"
     ]
    },
    {
     "name": "stderr",
     "output_type": "stream",
     "text": [
      "                                                   \n",
      " 40%|████      | 224/560 [37:30<50:54,  9.09s/it]"
     ]
    },
    {
     "name": "stdout",
     "output_type": "stream",
     "text": [
      "{'eval_loss': 0.71859210729599, 'eval_accuracy': 0.7433035714285714, 'eval_runtime': 26.7167, 'eval_samples_per_second': 16.769, 'eval_steps_per_second': 1.048, 'epoch': 8.0}\n"
     ]
    },
    {
     "name": "stderr",
     "output_type": "stream",
     "text": [
      "                                                   \n",
      " 45%|████▌     | 252/560 [42:12<46:34,  9.07s/it]"
     ]
    },
    {
     "name": "stdout",
     "output_type": "stream",
     "text": [
      "{'eval_loss': 0.7055925726890564, 'eval_accuracy': 0.75, 'eval_runtime': 26.6955, 'eval_samples_per_second': 16.782, 'eval_steps_per_second': 1.049, 'epoch': 9.0}\n"
     ]
    },
    {
     "name": "stderr",
     "output_type": "stream",
     "text": [
      "                                                   \n",
      " 50%|█████     | 280/560 [46:53<42:14,  9.05s/it]"
     ]
    },
    {
     "name": "stdout",
     "output_type": "stream",
     "text": [
      "{'eval_loss': 0.7790117859840393, 'eval_accuracy': 0.7053571428571429, 'eval_runtime': 26.7467, 'eval_samples_per_second': 16.75, 'eval_steps_per_second': 1.047, 'epoch': 10.0}\n"
     ]
    },
    {
     "name": "stderr",
     "output_type": "stream",
     "text": [
      "                                                   \n",
      " 55%|█████▌    | 308/560 [51:34<37:51,  9.02s/it]"
     ]
    },
    {
     "name": "stdout",
     "output_type": "stream",
     "text": [
      "{'eval_loss': 0.73660808801651, 'eval_accuracy': 0.7522321428571429, 'eval_runtime': 26.7723, 'eval_samples_per_second': 16.734, 'eval_steps_per_second': 1.046, 'epoch': 11.0}\n"
     ]
    },
    {
     "name": "stderr",
     "output_type": "stream",
     "text": [
      "                                                   \n",
      " 60%|██████    | 336/560 [56:17<33:56,  9.09s/it]"
     ]
    },
    {
     "name": "stdout",
     "output_type": "stream",
     "text": [
      "{'eval_loss': 0.7456002235412598, 'eval_accuracy': 0.7544642857142857, 'eval_runtime': 27.1334, 'eval_samples_per_second': 16.511, 'eval_steps_per_second': 1.032, 'epoch': 12.0}\n"
     ]
    },
    {
     "name": "stderr",
     "output_type": "stream",
     "text": [
      "                                                   \n",
      " 65%|██████▌   | 364/560 [1:01:00<29:56,  9.17s/it]"
     ]
    },
    {
     "name": "stdout",
     "output_type": "stream",
     "text": [
      "{'eval_loss': 0.7649380564689636, 'eval_accuracy': 0.7455357142857143, 'eval_runtime': 27.2817, 'eval_samples_per_second': 16.421, 'eval_steps_per_second': 1.026, 'epoch': 13.0}\n"
     ]
    },
    {
     "name": "stderr",
     "output_type": "stream",
     "text": [
      "                                                   \n",
      " 70%|███████   | 392/560 [1:05:45<25:34,  9.13s/it]"
     ]
    },
    {
     "name": "stdout",
     "output_type": "stream",
     "text": [
      "{'eval_loss': 0.7625223994255066, 'eval_accuracy': 0.7477678571428571, 'eval_runtime': 26.8135, 'eval_samples_per_second': 16.708, 'eval_steps_per_second': 1.044, 'epoch': 14.0}\n"
     ]
    },
    {
     "name": "stderr",
     "output_type": "stream",
     "text": [
      "                                                   \n",
      " 75%|███████▌  | 420/560 [1:10:27<21:12,  9.09s/it]"
     ]
    },
    {
     "name": "stdout",
     "output_type": "stream",
     "text": [
      "{'eval_loss': 0.789542019367218, 'eval_accuracy': 0.75, 'eval_runtime': 26.7458, 'eval_samples_per_second': 16.75, 'eval_steps_per_second': 1.047, 'epoch': 15.0}\n"
     ]
    },
    {
     "name": "stderr",
     "output_type": "stream",
     "text": [
      " 75%|███████▌  | 420/560 [1:10:28<23:29, 10.07s/it]"
     ]
    },
    {
     "name": "stdout",
     "output_type": "stream",
     "text": [
      "{'train_runtime': 4228.4507, 'train_samples_per_second': 8.476, 'train_steps_per_second': 0.132, 'train_loss': 0.5392806643531436, 'epoch': 15.0}\n",
      "Trening zakończony.\n"
     ]
    },
    {
     "name": "stderr",
     "output_type": "stream",
     "text": [
      "\n"
     ]
    }
   ],
   "source": [
    "training_args = TrainingArguments(\n",
    "    output_dir=config[\"output_dir\"],\n",
    "    num_train_epochs=config[\"epochs\"],\n",
    "    learning_rate=config[\"learning_rate\"],\n",
    "    per_device_train_batch_size=config[\"batch_size\"],\n",
    "    per_device_eval_batch_size=config[\"batch_size\"],\n",
    "    gradient_accumulation_steps=4,\n",
    "    warmup_ratio=0.1,\n",
    "    evaluation_strategy=\"epoch\",\n",
    "    save_strategy=\"epoch\",\n",
    "    load_best_model_at_end=True,\n",
    "    metric_for_best_model=\"accuracy\",\n",
    "    greater_is_better=True,\n",
    "    save_total_limit=1,\n",
    "    report_to=\"none\",\n",
    ")\n",
    "\n",
    "# Inicjalizacja Early Stopping Callback\n",
    "# Zatrzyma trening, jeśli 'accuracy' na zbiorze walidacyjnym nie poprawi się przez 3 epoki.\n",
    "early_stopping_callback = EarlyStoppingCallback(early_stopping_patience=config[\"early_stopping_patience\"])\n",
    "\n",
    "\n",
    "# Inicjalizacja Trenera z nowym callbackiem\n",
    "trainer = WeightedLossTrainer( # <-- Używamy naszej nowej klasy WeightedLossTrainer\n",
    "    model=model,\n",
    "    args=training_args,\n",
    "    train_dataset=train_dataset,\n",
    "    eval_dataset=val_dataset,\n",
    "    compute_metrics=utils.compute_metrics,\n",
    "    callbacks=[early_stopping_callback]\n",
    ")\n",
    "\n",
    "# Uruchomienie treningu\n",
    "print(\"Rozpoczynanie treningu z Early Stopping...\")\n",
    "trainer.train()\n",
    "print(\"Trening zakończony.\")\n"
   ]
  },
  {
   "cell_type": "code",
   "execution_count": 10,
   "id": "7d42e7da",
   "metadata": {},
   "outputs": [
    {
     "name": "stdout",
     "output_type": "stream",
     "text": [
      "Zapisywanie finalnego modelu w: /Users/Ola/Documents/retinopathy-classifier/models_pytorch_vit/vit_v3_advaug_0.2split_20epoch/final_model\n",
      "Zapisywanie procesora w: /Users/Ola/Documents/retinopathy-classifier/models_pytorch_vit/vit_v3_advaug_0.2split_20epoch/final_model\n",
      "✅ Gotowe! Finalny model wraz z procesorem został zapisany.\n"
     ]
    }
   ],
   "source": [
    "# Zdefiniuj ścieżkę, gdzie chcesz zapisać finalną, kompletną wersję modelu\n",
    "final_model_path = config[\"output_dir\"] / \"final_model\"\n",
    "\n",
    "# Zapisz najlepszą wersję modelu (którą Trainer już załadował dzięki load_best_model_at_end=True)\n",
    "print(f\"Zapisywanie finalnego modelu w: {final_model_path}\")\n",
    "trainer.save_model(final_model_path)\n",
    "\n",
    "# --- KLUCZOWY KROK ---\n",
    "# Zapisz konfigurację procesora obrazu w TYM SAMYM folderze\n",
    "print(f\"Zapisywanie procesora w: {final_model_path}\")\n",
    "processor.save_pretrained(final_model_path)\n",
    "\n",
    "print(\"✅ Gotowe! Finalny model wraz z procesorem został zapisany.\")"
   ]
  },
  {
   "cell_type": "code",
   "execution_count": 11,
   "id": "55edca6a",
   "metadata": {},
   "outputs": [
    {
     "name": "stdout",
     "output_type": "stream",
     "text": [
      "\n",
      "Ocenianie modelu na zbiorze testowym...\n"
     ]
    },
    {
     "name": "stderr",
     "output_type": "stream",
     "text": [
      "100%|██████████| 35/35 [00:32<00:00,  1.08it/s]"
     ]
    },
    {
     "name": "stdout",
     "output_type": "stream",
     "text": [
      "\n",
      "Raport Klasyfikacji:\n",
      "              precision    recall  f1-score   support\n",
      "\n",
      "     grade_0       0.71      0.71      0.71       140\n",
      "     grade_1       0.72      0.69      0.71       140\n",
      "     grade_2       0.54      0.54      0.54       140\n",
      "     grade_3       0.82      0.86      0.84       140\n",
      "\n",
      "    accuracy                           0.70       560\n",
      "   macro avg       0.70      0.70      0.70       560\n",
      "weighted avg       0.70      0.70      0.70       560\n",
      "\n",
      "\n",
      "Macierz Pomyłek:\n"
     ]
    },
    {
     "name": "stderr",
     "output_type": "stream",
     "text": [
      "\n"
     ]
    },
    {
     "data": {
      "image/png": "[encoded data removed]",
      "text/plain": [
       "<Figure size 800x600 with 2 Axes>"
      ]
     },
     "metadata": {},
     "output_type": "display_data"
    }
   ],
   "source": [
    "# ===================================================================\n",
    "# KROK 6: EWALUACJA NA ZBIORZE TESTOWYM\n",
    "# ===================================================================\n",
    "print(\"\\nOcenianie modelu na zbiorze testowym...\")\n",
    "results = trainer.predict(test_dataset)\n",
    "\n",
    "# Wyciągnij predykcje i prawdziwe etykiety\n",
    "y_pred = np.argmax(results.predictions, axis=1)\n",
    "y_true = results.label_ids\n",
    "\n",
    "print(\"\\nRaport Klasyfikacji:\")\n",
    "print(classification_report(y_true, y_pred, target_names=config[\"class_names\"]))\n",
    "\n",
    "print(\"\\nMacierz Pomyłek:\")\n",
    "cm = confusion_matrix(y_true, y_pred)\n",
    "plt.figure(figsize=(8, 6))\n",
    "sns.heatmap(cm, annot=True, fmt='d', cmap='Blues', \n",
    "            xticklabels=config[\"class_names\"], \n",
    "            yticklabels=config[\"class_names\"])\n",
    "plt.title('Confusion Matrix', fontsize=16)\n",
    "plt.ylabel('True Label', fontsize=12)\n",
    "plt.xlabel('Predicted Label', fontsize=12)\n",
    "plt.show()"
   ]
  }
 ],
 "metadata": {
  "kernelspec": {
   "display_name": "hf_pytorch_env",
   "language": "python",
   "name": "python3"
  },
  "language_info": {
   "codemirror_mode": {
    "name": "ipython",
    "version": 3
   },
   "file_extension": ".py",
   "mimetype": "text/x-python",
   "name": "python",
   "nbconvert_exporter": "python",
   "pygments_lexer": "ipython3",
   "version": "3.10.18"
  }
 },
 "nbformat": 4,
 "nbformat_minor": 5
}
