{
 "cells": [
  {
   "cell_type": "markdown",
   "id": "c6fe34c6",
   "metadata": {},
   "source": [
    "# Image Classifier"
   ]
  },
  {
   "cell_type": "markdown",
   "id": "39bf54f5",
   "metadata": {},
   "source": [
    "### Imports"
   ]
  },
  {
   "cell_type": "code",
   "execution_count": 1,
   "id": "0f056a71",
   "metadata": {},
   "outputs": [
    {
     "name": "stdout",
     "output_type": "stream",
     "text": [
      "WARNING:tensorflow:From d:\\Users\\Olunia\\anaconda3\\envs\\new_data_env\\Lib\\site-packages\\tf_keras\\src\\losses.py:2976: The name tf.losses.sparse_softmax_cross_entropy is deprecated. Please use tf.compat.v1.losses.sparse_softmax_cross_entropy instead.\n",
      "\n"
     ]
    }
   ],
   "source": [
    "# %load_ext autoreload\n",
    "# %autoreload 2\n",
    "import os\n",
    "os.environ['TF_USE_LEGACY_KERAS'] = '1'\n",
    "import tensorflow as tf\n",
    "from tensorflow import keras\n",
    "from tensorflow.keras import layers, models\n",
    "from transformers import TFViTModel, ViTConfig\n",
    "from glob import glob \n",
    "import numpy as np\n",
    "import cv2 \n",
    "from sklearn.model_selection import train_test_split\n",
    "import random\n",
    "from pathlib import Path\n",
    "from PIL import Image\n",
    "import tifffile as tiff\n",
    "from tensorflow.keras.models import load_model\n",
    "from tensorflow.keras.callbacks import ModelCheckpoint\n",
    "from sklearn.utils import class_weight\n",
    "from tensorflow.keras.callbacks import EarlyStopping\n",
    "from tensorflow.keras.optimizers import Adam\n",
    "import matplotlib.pyplot as plt\n",
    "from sklearn.metrics import classification_report, confusion_matrix\n",
    "import seaborn as sns\n",
    "import sys\n",
    "\n",
    "project_dir = Path.cwd().parent\n",
    "if str(project_dir) not in sys.path:\n",
    "    sys.path.append(str(project_dir))\n",
    "\n",
    "import utils "
   ]
  },
  {
   "cell_type": "code",
   "execution_count": 2,
   "id": "4c604f1f",
   "metadata": {},
   "outputs": [
    {
     "name": "stdout",
     "output_type": "stream",
     "text": [
      "d:\\DataScienceKurs\\retinopathy-classifier\\notebooks\n"
     ]
    }
   ],
   "source": [
    "import os\n",
    "print(os.getcwd())"
   ]
  },
  {
   "cell_type": "code",
   "execution_count": 3,
   "id": "4d321b55",
   "metadata": {},
   "outputs": [
    {
     "data": {
      "text/plain": [
       "'data\\\\grouped'"
      ]
     },
     "execution_count": 3,
     "metadata": {},
     "output_type": "execute_result"
    }
   ],
   "source": [
    "os.path.join('data','grouped')"
   ]
  },
  {
   "cell_type": "code",
   "execution_count": 4,
   "id": "33bdf0e8",
   "metadata": {},
   "outputs": [
    {
     "name": "stdout",
     "output_type": "stream",
     "text": [
      "d:\\DataScienceKurs\\retinopathy-classifier\\notebooks\n"
     ]
    }
   ],
   "source": [
    "print(os.getcwd()) #Current Working Directory"
   ]
  },
  {
   "cell_type": "markdown",
   "id": "9ecb67a7",
   "metadata": {},
   "source": [
    "### Global Config"
   ]
  },
  {
   "cell_type": "code",
   "execution_count": 5,
   "id": "f1cb2099",
   "metadata": {},
   "outputs": [],
   "source": [
    "project_root = Path(r\"D:\\DataScienceKurs\\retinopathy-classifier\")\n",
    "data_dir = project_root/\"data\"/\"grouped\"\n",
    "\n",
    "config = {\n",
    "    #  Model names\n",
    "    \"model_name\": \"retina_classifier_v1\",\n",
    "    \"save_dir_models\": project_root/\"models\",\n",
    "    \"save_dir_plots\": project_root/\"reports\",\n",
    "\n",
    "    # data parameters\n",
    "    \"data_dir\": data_dir,\n",
    "    \"image_size\": (224, 224, 3),\n",
    "    \"num_classes\": len(os.listdir(data_dir)) if data_dir.exists() else 4, # Calculates automatically\n",
    "    \"class_names\": sorted([p.name for p in data_dir.iterdir() if p.is_dir()]),\n",
    "\n",
    "    # Training parameters\n",
    "    \"learning_rate\": 0.001,\n",
    "    \"epochs\": 100,\n",
    "    \"batch_size\": 16, \n",
    "    \"early_stopping_patience\": 10, \n",
    "\n",
    "    # Data split parameters:\n",
    "    \"test_split_size\": 0.1,\n",
    "    \"validation_split_size\": 0.2,\n",
    "\n",
    "    # Architecture\n",
    "    \"dense_units\": 512,\n",
    "    \"dropout_rate\": 0.5,\n",
    "    \"random_seed\": 42 # for reproductability\n",
    "}\n",
    "\n",
    "os.makedirs(config[\"save_dir_models\"], exist_ok=True)\n",
    "os.makedirs(config[\"save_dir_plots\"], exist_ok=True)"
   ]
  },
  {
   "cell_type": "markdown",
   "id": "58b27616",
   "metadata": {},
   "source": [
    "### Check the data"
   ]
  },
  {
   "cell_type": "code",
   "execution_count": 6,
   "id": "183c705c",
   "metadata": {},
   "outputs": [
    {
     "name": "stdout",
     "output_type": "stream",
     "text": [
      "Found 1182 image files.\n"
     ]
    }
   ],
   "source": [
    "all_tif_files, all_labels = utils.load_paths_and_labels(config)"
   ]
  },
  {
   "cell_type": "code",
   "execution_count": 7,
   "id": "dccf87a2",
   "metadata": {},
   "outputs": [
    {
     "name": "stdout",
     "output_type": "stream",
     "text": [
      "grade_0 = 547 images\n",
      "grade_1 = 149 images\n",
      "grade_2 = 237 images\n",
      "grade_3 = 249 images\n"
     ]
    }
   ],
   "source": [
    "for class_dir in data_dir.iterdir():\n",
    "    if class_dir.is_dir():\n",
    "        count = len(list(class_dir.glob(\"*.tif\")))\n",
    "        print(f\"{class_dir.name} = {count} images\")"
   ]
  },
  {
   "cell_type": "markdown",
   "id": "91a916a2",
   "metadata": {},
   "source": [
    "These are medical images, files should be in .tif to keep the quality"
   ]
  },
  {
   "cell_type": "markdown",
   "id": "9de9b6c1",
   "metadata": {},
   "source": [
    "### Divide in train and validation set"
   ]
  },
  {
   "cell_type": "code",
   "execution_count": 8,
   "id": "05dfde59",
   "metadata": {},
   "outputs": [
    {
     "name": "stdout",
     "output_type": "stream",
     "text": [
      "Number of training files: 850\n",
      "Number of validation files: 213\n",
      "Number of test files: 119\n"
     ]
    }
   ],
   "source": [
    "# First split: 80% for train/val, 20% for test\n",
    "train_val_files, test_files, train_val_labels, test_labels = train_test_split(\n",
    "    all_tif_files, \n",
    "    all_labels, \n",
    "    test_size = config[\"test_split_size\"], \n",
    "    stratify=all_labels, \n",
    "    random_state=config[\"random_seed\"]\n",
    ")\n",
    "\n",
    "# Second split: From the remaining data, take 25% for validation\n",
    "train_files, val_files, train_labels, val_labels = train_test_split(\n",
    "    train_val_files, \n",
    "    train_val_labels, \n",
    "    test_size=config[\"validation_split_size\"],\n",
    "    stratify=train_val_labels, \n",
    "    random_state=config[\"random_seed\"]\n",
    ")\n",
    "\n",
    "print(f\"Number of training files: {len(train_files)}\") \n",
    "print(f\"Number of validation files: {len(val_files)}\")   \n",
    "print(f\"Number of test files: {len(test_files)}\")"
   ]
  },
  {
   "cell_type": "markdown",
   "id": "3664b02e",
   "metadata": {},
   "source": [
    "### Calculate the weight of classes "
   ]
  },
  {
   "cell_type": "code",
   "execution_count": 9,
   "id": "eca03858",
   "metadata": {},
   "outputs": [],
   "source": [
    "class_weights = class_weight.compute_class_weight('balanced', classes=np.unique(train_labels), y=train_labels)\n",
    "class_weight_dict = dict(enumerate(class_weights))"
   ]
  },
  {
   "cell_type": "markdown",
   "id": "0e4cf335",
   "metadata": {},
   "source": [
    "### Create Datasets"
   ]
  },
  {
   "cell_type": "code",
   "execution_count": 10,
   "id": "3232c0df",
   "metadata": {},
   "outputs": [],
   "source": [
    "train_ds = utils.create_tf_dataset(train_files, train_labels, config, is_training=True)\n",
    "val_ds   = utils.create_tf_dataset(val_files,   val_labels,   config, is_training=False)\n",
    "test_ds  = utils.create_tf_dataset(test_files,  test_labels,  config, is_training=False)"
   ]
  },
  {
   "cell_type": "markdown",
   "id": "d8404a0a",
   "metadata": {},
   "source": [
    "### Call the model"
   ]
  },
  {
   "cell_type": "code",
   "execution_count": 11,
   "id": "df5edb0b",
   "metadata": {},
   "outputs": [
    {
     "name": "stdout",
     "output_type": "stream",
     "text": [
      "WARNING:tensorflow:From d:\\Users\\Olunia\\anaconda3\\envs\\new_data_env\\Lib\\site-packages\\tf_keras\\src\\backend.py:1400: The name tf.executing_eagerly_outside_functions is deprecated. Please use tf.compat.v1.executing_eagerly_outside_functions instead.\n",
      "\n",
      "WARNING:tensorflow:From d:\\Users\\Olunia\\anaconda3\\envs\\new_data_env\\Lib\\site-packages\\tf_keras\\src\\layers\\pooling\\max_pooling2d.py:161: The name tf.nn.max_pool is deprecated. Please use tf.nn.max_pool2d instead.\n",
      "\n",
      "Model: \"sequential\"\n",
      "_________________________________________________________________\n",
      " Layer (type)                Output Shape              Param #   \n",
      "=================================================================\n",
      " conv2d (Conv2D)             (None, 222, 222, 32)      896       \n",
      "                                                                 \n",
      " max_pooling2d (MaxPooling2  (None, 111, 111, 32)      0         \n",
      " D)                                                              \n",
      "                                                                 \n",
      " conv2d_1 (Conv2D)           (None, 109, 109, 64)      18496     \n",
      "                                                                 \n",
      " max_pooling2d_1 (MaxPoolin  (None, 54, 54, 64)        0         \n",
      " g2D)                                                            \n",
      "                                                                 \n",
      " flatten (Flatten)           (None, 186624)            0         \n",
      "                                                                 \n",
      " dense (Dense)               (None, 512)               95552000  \n",
      "                                                                 \n",
      " batch_normalization (Batch  (None, 512)               2048      \n",
      " Normalization)                                                  \n",
      "                                                                 \n",
      " activation (Activation)     (None, 512)               0         \n",
      "                                                                 \n",
      " dropout (Dropout)           (None, 512)               0         \n",
      "                                                                 \n",
      " dense_1 (Dense)             (None, 4)                 2052      \n",
      "                                                                 \n",
      "=================================================================\n",
      "Total params: 95575492 (364.59 MB)\n",
      "Trainable params: 95574468 (364.59 MB)\n",
      "Non-trainable params: 1024 (4.00 KB)\n",
      "_________________________________________________________________\n"
     ]
    }
   ],
   "source": [
    "model = utils.create_simple_cnn(config)\n",
    "model.summary()"
   ]
  },
  {
   "cell_type": "markdown",
   "id": "309f88d2",
   "metadata": {},
   "source": [
    "### Build a model"
   ]
  },
  {
   "cell_type": "code",
   "execution_count": 13,
   "id": "07722cff",
   "metadata": {},
   "outputs": [
    {
     "name": "stdout",
     "output_type": "stream",
     "text": [
      "\n",
      "Starting training for model: retina_classifier_v1\n",
      "Epoch 1/100\n",
      "WARNING:tensorflow:From d:\\Users\\Olunia\\anaconda3\\envs\\new_data_env\\Lib\\site-packages\\tf_keras\\src\\utils\\tf_utils.py:492: The name tf.ragged.RaggedTensorValue is deprecated. Please use tf.compat.v1.ragged.RaggedTensorValue instead.\n",
      "\n",
      "WARNING:tensorflow:From d:\\Users\\Olunia\\anaconda3\\envs\\new_data_env\\Lib\\site-packages\\tf_keras\\src\\engine\\base_layer_utils.py:384: The name tf.executing_eagerly_outside_functions is deprecated. Please use tf.compat.v1.executing_eagerly_outside_functions instead.\n",
      "\n",
      "54/54 [==============================] - ETA: 0s - loss: 1.6377 - accuracy: 0.3471\n",
      "Epoch 1: val_loss improved from inf to 8.29169, saving model to D:\\DataScienceKurs\\retinopathy-classifier\\models\\retina_classifier_v1_best_model.keras\n",
      "54/54 [==============================] - 79s 1s/step - loss: 1.6377 - accuracy: 0.3471 - val_loss: 8.2917 - val_accuracy: 0.4601\n",
      "Epoch 2/100\n",
      "54/54 [==============================] - ETA: 0s - loss: 1.4444 - accuracy: 0.3435\n",
      "Epoch 2: val_loss did not improve from 8.29169\n",
      "54/54 [==============================] - 67s 1s/step - loss: 1.4444 - accuracy: 0.3435 - val_loss: 8.7902 - val_accuracy: 0.2113\n",
      "Epoch 3/100\n",
      "54/54 [==============================] - ETA: 0s - loss: 1.3713 - accuracy: 0.3600\n",
      "Epoch 3: val_loss improved from 8.29169 to 5.67054, saving model to D:\\DataScienceKurs\\retinopathy-classifier\\models\\retina_classifier_v1_best_model.keras\n",
      "54/54 [==============================] - 76s 1s/step - loss: 1.3713 - accuracy: 0.3600 - val_loss: 5.6705 - val_accuracy: 0.4601\n",
      "Epoch 4/100\n",
      "54/54 [==============================] - ETA: 0s - loss: 1.3461 - accuracy: 0.3800\n",
      "Epoch 4: val_loss improved from 5.67054 to 3.80344, saving model to D:\\DataScienceKurs\\retinopathy-classifier\\models\\retina_classifier_v1_best_model.keras\n",
      "54/54 [==============================] - 73s 1s/step - loss: 1.3461 - accuracy: 0.3800 - val_loss: 3.8034 - val_accuracy: 0.4601\n",
      "Epoch 5/100\n",
      "54/54 [==============================] - ETA: 0s - loss: 1.3364 - accuracy: 0.4106  \n",
      "Epoch 5: val_loss improved from 3.80344 to 2.37785, saving model to D:\\DataScienceKurs\\retinopathy-classifier\\models\\retina_classifier_v1_best_model.keras\n",
      "54/54 [==============================] - 5199s 98s/step - loss: 1.3364 - accuracy: 0.4106 - val_loss: 2.3778 - val_accuracy: 0.4601\n",
      "Epoch 6/100\n",
      "54/54 [==============================] - ETA: 0s - loss: 1.3201 - accuracy: 0.4176\n",
      "Epoch 6: val_loss improved from 2.37785 to 1.46531, saving model to D:\\DataScienceKurs\\retinopathy-classifier\\models\\retina_classifier_v1_best_model.keras\n",
      "54/54 [==============================] - 78s 1s/step - loss: 1.3201 - accuracy: 0.4176 - val_loss: 1.4653 - val_accuracy: 0.4413\n",
      "Epoch 7/100\n",
      "19/54 [=========>....................] - ETA: 46s - loss: 1.2098 - accuracy: 0.4737"
     ]
    },
    {
     "ename": "KeyboardInterrupt",
     "evalue": "",
     "output_type": "error",
     "traceback": [
      "\u001b[31m---------------------------------------------------------------------------\u001b[39m",
      "\u001b[31mKeyboardInterrupt\u001b[39m                         Traceback (most recent call last)",
      "\u001b[36mCell\u001b[39m\u001b[36m \u001b[39m\u001b[32mIn[13]\u001b[39m\u001b[32m, line 22\u001b[39m\n\u001b[32m     18\u001b[39m callbacks_list = [checkpoint_callback, early_stopping_callback]\n\u001b[32m     20\u001b[39m \u001b[38;5;28mprint\u001b[39m(\u001b[33mf\u001b[39m\u001b[33m\"\u001b[39m\u001b[38;5;130;01m\\n\u001b[39;00m\u001b[33mStarting training for model: \u001b[39m\u001b[38;5;132;01m{\u001b[39;00mconfig[\u001b[33m'\u001b[39m\u001b[33mmodel_name\u001b[39m\u001b[33m'\u001b[39m]\u001b[38;5;132;01m}\u001b[39;00m\u001b[33m\"\u001b[39m)\n\u001b[32m---> \u001b[39m\u001b[32m22\u001b[39m history = model.fit(\n\u001b[32m     23\u001b[39m     train_ds,\n\u001b[32m     24\u001b[39m     validation_data=val_ds,\n\u001b[32m     25\u001b[39m     epochs=config[\u001b[33m\"\u001b[39m\u001b[33mepochs\u001b[39m\u001b[33m\"\u001b[39m],\n\u001b[32m     26\u001b[39m     class_weight=class_weight_dict,\n\u001b[32m     27\u001b[39m     callbacks=callbacks_list\n\u001b[32m     28\u001b[39m )\n\u001b[32m     30\u001b[39m utils.plot_and_save_history(history, config)\n\u001b[32m     32\u001b[39m \u001b[38;5;28mprint\u001b[39m(\u001b[33mf\u001b[39m\u001b[33m\"\u001b[39m\u001b[38;5;130;01m\\n\u001b[39;00m\u001b[33mTraining finished. The best model was saved to: \u001b[39m\u001b[38;5;132;01m{\u001b[39;00mmodel_filepath\u001b[38;5;132;01m}\u001b[39;00m\u001b[33m\"\u001b[39m)\n",
      "\u001b[36mFile \u001b[39m\u001b[32md:\\Users\\Olunia\\anaconda3\\envs\\new_data_env\\Lib\\site-packages\\tf_keras\\src\\utils\\traceback_utils.py:65\u001b[39m, in \u001b[36mfilter_traceback.<locals>.error_handler\u001b[39m\u001b[34m(*args, **kwargs)\u001b[39m\n\u001b[32m     63\u001b[39m filtered_tb = \u001b[38;5;28;01mNone\u001b[39;00m\n\u001b[32m     64\u001b[39m \u001b[38;5;28;01mtry\u001b[39;00m:\n\u001b[32m---> \u001b[39m\u001b[32m65\u001b[39m     \u001b[38;5;28;01mreturn\u001b[39;00m fn(*args, **kwargs)\n\u001b[32m     66\u001b[39m \u001b[38;5;28;01mexcept\u001b[39;00m \u001b[38;5;167;01mException\u001b[39;00m \u001b[38;5;28;01mas\u001b[39;00m e:\n\u001b[32m     67\u001b[39m     filtered_tb = _process_traceback_frames(e.__traceback__)\n",
      "\u001b[36mFile \u001b[39m\u001b[32md:\\Users\\Olunia\\anaconda3\\envs\\new_data_env\\Lib\\site-packages\\tf_keras\\src\\engine\\training.py:1804\u001b[39m, in \u001b[36mModel.fit\u001b[39m\u001b[34m(self, x, y, batch_size, epochs, verbose, callbacks, validation_split, validation_data, shuffle, class_weight, sample_weight, initial_epoch, steps_per_epoch, validation_steps, validation_batch_size, validation_freq, max_queue_size, workers, use_multiprocessing)\u001b[39m\n\u001b[32m   1796\u001b[39m \u001b[38;5;28;01mwith\u001b[39;00m tf.profiler.experimental.Trace(\n\u001b[32m   1797\u001b[39m     \u001b[33m\"\u001b[39m\u001b[33mtrain\u001b[39m\u001b[33m\"\u001b[39m,\n\u001b[32m   1798\u001b[39m     epoch_num=epoch,\n\u001b[32m   (...)\u001b[39m\u001b[32m   1801\u001b[39m     _r=\u001b[32m1\u001b[39m,\n\u001b[32m   1802\u001b[39m ):\n\u001b[32m   1803\u001b[39m     callbacks.on_train_batch_begin(step)\n\u001b[32m-> \u001b[39m\u001b[32m1804\u001b[39m     tmp_logs = \u001b[38;5;28mself\u001b[39m.train_function(iterator)\n\u001b[32m   1805\u001b[39m     \u001b[38;5;28;01mif\u001b[39;00m data_handler.should_sync:\n\u001b[32m   1806\u001b[39m         context.async_wait()\n",
      "\u001b[36mFile \u001b[39m\u001b[32md:\\Users\\Olunia\\anaconda3\\envs\\new_data_env\\Lib\\site-packages\\tensorflow\\python\\util\\traceback_utils.py:150\u001b[39m, in \u001b[36mfilter_traceback.<locals>.error_handler\u001b[39m\u001b[34m(*args, **kwargs)\u001b[39m\n\u001b[32m    148\u001b[39m filtered_tb = \u001b[38;5;28;01mNone\u001b[39;00m\n\u001b[32m    149\u001b[39m \u001b[38;5;28;01mtry\u001b[39;00m:\n\u001b[32m--> \u001b[39m\u001b[32m150\u001b[39m   \u001b[38;5;28;01mreturn\u001b[39;00m fn(*args, **kwargs)\n\u001b[32m    151\u001b[39m \u001b[38;5;28;01mexcept\u001b[39;00m \u001b[38;5;167;01mException\u001b[39;00m \u001b[38;5;28;01mas\u001b[39;00m e:\n\u001b[32m    152\u001b[39m   filtered_tb = _process_traceback_frames(e.__traceback__)\n",
      "\u001b[36mFile \u001b[39m\u001b[32md:\\Users\\Olunia\\anaconda3\\envs\\new_data_env\\Lib\\site-packages\\tensorflow\\python\\eager\\polymorphic_function\\polymorphic_function.py:833\u001b[39m, in \u001b[36mFunction.__call__\u001b[39m\u001b[34m(self, *args, **kwds)\u001b[39m\n\u001b[32m    830\u001b[39m compiler = \u001b[33m\"\u001b[39m\u001b[33mxla\u001b[39m\u001b[33m\"\u001b[39m \u001b[38;5;28;01mif\u001b[39;00m \u001b[38;5;28mself\u001b[39m._jit_compile \u001b[38;5;28;01melse\u001b[39;00m \u001b[33m\"\u001b[39m\u001b[33mnonXla\u001b[39m\u001b[33m\"\u001b[39m\n\u001b[32m    832\u001b[39m \u001b[38;5;28;01mwith\u001b[39;00m OptionalXlaContext(\u001b[38;5;28mself\u001b[39m._jit_compile):\n\u001b[32m--> \u001b[39m\u001b[32m833\u001b[39m   result = \u001b[38;5;28mself\u001b[39m._call(*args, **kwds)\n\u001b[32m    835\u001b[39m new_tracing_count = \u001b[38;5;28mself\u001b[39m.experimental_get_tracing_count()\n\u001b[32m    836\u001b[39m without_tracing = (tracing_count == new_tracing_count)\n",
      "\u001b[36mFile \u001b[39m\u001b[32md:\\Users\\Olunia\\anaconda3\\envs\\new_data_env\\Lib\\site-packages\\tensorflow\\python\\eager\\polymorphic_function\\polymorphic_function.py:869\u001b[39m, in \u001b[36mFunction._call\u001b[39m\u001b[34m(self, *args, **kwds)\u001b[39m\n\u001b[32m    866\u001b[39m   \u001b[38;5;28mself\u001b[39m._lock.release()\n\u001b[32m    867\u001b[39m   \u001b[38;5;66;03m# In this case we have created variables on the first call, so we run the\u001b[39;00m\n\u001b[32m    868\u001b[39m   \u001b[38;5;66;03m# defunned version which is guaranteed to never create variables.\u001b[39;00m\n\u001b[32m--> \u001b[39m\u001b[32m869\u001b[39m   \u001b[38;5;28;01mreturn\u001b[39;00m tracing_compilation.call_function(\n\u001b[32m    870\u001b[39m       args, kwds, \u001b[38;5;28mself\u001b[39m._no_variable_creation_config\n\u001b[32m    871\u001b[39m   )\n\u001b[32m    872\u001b[39m \u001b[38;5;28;01melif\u001b[39;00m \u001b[38;5;28mself\u001b[39m._variable_creation_config \u001b[38;5;129;01mis\u001b[39;00m \u001b[38;5;129;01mnot\u001b[39;00m \u001b[38;5;28;01mNone\u001b[39;00m:\n\u001b[32m    873\u001b[39m   \u001b[38;5;66;03m# Release the lock early so that multiple threads can perform the call\u001b[39;00m\n\u001b[32m    874\u001b[39m   \u001b[38;5;66;03m# in parallel.\u001b[39;00m\n\u001b[32m    875\u001b[39m   \u001b[38;5;28mself\u001b[39m._lock.release()\n",
      "\u001b[36mFile \u001b[39m\u001b[32md:\\Users\\Olunia\\anaconda3\\envs\\new_data_env\\Lib\\site-packages\\tensorflow\\python\\eager\\polymorphic_function\\tracing_compilation.py:139\u001b[39m, in \u001b[36mcall_function\u001b[39m\u001b[34m(args, kwargs, tracing_options)\u001b[39m\n\u001b[32m    137\u001b[39m bound_args = function.function_type.bind(*args, **kwargs)\n\u001b[32m    138\u001b[39m flat_inputs = function.function_type.unpack_inputs(bound_args)\n\u001b[32m--> \u001b[39m\u001b[32m139\u001b[39m \u001b[38;5;28;01mreturn\u001b[39;00m function._call_flat(  \u001b[38;5;66;03m# pylint: disable=protected-access\u001b[39;00m\n\u001b[32m    140\u001b[39m     flat_inputs, captured_inputs=function.captured_inputs\n\u001b[32m    141\u001b[39m )\n",
      "\u001b[36mFile \u001b[39m\u001b[32md:\\Users\\Olunia\\anaconda3\\envs\\new_data_env\\Lib\\site-packages\\tensorflow\\python\\eager\\polymorphic_function\\concrete_function.py:1322\u001b[39m, in \u001b[36mConcreteFunction._call_flat\u001b[39m\u001b[34m(self, tensor_inputs, captured_inputs)\u001b[39m\n\u001b[32m   1318\u001b[39m possible_gradient_type = gradients_util.PossibleTapeGradientTypes(args)\n\u001b[32m   1319\u001b[39m \u001b[38;5;28;01mif\u001b[39;00m (possible_gradient_type == gradients_util.POSSIBLE_GRADIENT_TYPES_NONE\n\u001b[32m   1320\u001b[39m     \u001b[38;5;129;01mand\u001b[39;00m executing_eagerly):\n\u001b[32m   1321\u001b[39m   \u001b[38;5;66;03m# No tape is watching; skip to running the function.\u001b[39;00m\n\u001b[32m-> \u001b[39m\u001b[32m1322\u001b[39m   \u001b[38;5;28;01mreturn\u001b[39;00m \u001b[38;5;28mself\u001b[39m._inference_function.call_preflattened(args)\n\u001b[32m   1323\u001b[39m forward_backward = \u001b[38;5;28mself\u001b[39m._select_forward_and_backward_functions(\n\u001b[32m   1324\u001b[39m     args,\n\u001b[32m   1325\u001b[39m     possible_gradient_type,\n\u001b[32m   1326\u001b[39m     executing_eagerly)\n\u001b[32m   1327\u001b[39m forward_function, args_with_tangents = forward_backward.forward()\n",
      "\u001b[36mFile \u001b[39m\u001b[32md:\\Users\\Olunia\\anaconda3\\envs\\new_data_env\\Lib\\site-packages\\tensorflow\\python\\eager\\polymorphic_function\\atomic_function.py:216\u001b[39m, in \u001b[36mAtomicFunction.call_preflattened\u001b[39m\u001b[34m(self, args)\u001b[39m\n\u001b[32m    214\u001b[39m \u001b[38;5;28;01mdef\u001b[39;00m\u001b[38;5;250m \u001b[39m\u001b[34mcall_preflattened\u001b[39m(\u001b[38;5;28mself\u001b[39m, args: Sequence[core.Tensor]) -> Any:\n\u001b[32m    215\u001b[39m \u001b[38;5;250m  \u001b[39m\u001b[33;03m\"\"\"Calls with flattened tensor inputs and returns the structured output.\"\"\"\u001b[39;00m\n\u001b[32m--> \u001b[39m\u001b[32m216\u001b[39m   flat_outputs = \u001b[38;5;28mself\u001b[39m.call_flat(*args)\n\u001b[32m    217\u001b[39m   \u001b[38;5;28;01mreturn\u001b[39;00m \u001b[38;5;28mself\u001b[39m.function_type.pack_output(flat_outputs)\n",
      "\u001b[36mFile \u001b[39m\u001b[32md:\\Users\\Olunia\\anaconda3\\envs\\new_data_env\\Lib\\site-packages\\tensorflow\\python\\eager\\polymorphic_function\\atomic_function.py:251\u001b[39m, in \u001b[36mAtomicFunction.call_flat\u001b[39m\u001b[34m(self, *args)\u001b[39m\n\u001b[32m    249\u001b[39m \u001b[38;5;28;01mwith\u001b[39;00m record.stop_recording():\n\u001b[32m    250\u001b[39m   \u001b[38;5;28;01mif\u001b[39;00m \u001b[38;5;28mself\u001b[39m._bound_context.executing_eagerly():\n\u001b[32m--> \u001b[39m\u001b[32m251\u001b[39m     outputs = \u001b[38;5;28mself\u001b[39m._bound_context.call_function(\n\u001b[32m    252\u001b[39m         \u001b[38;5;28mself\u001b[39m.name,\n\u001b[32m    253\u001b[39m         \u001b[38;5;28mlist\u001b[39m(args),\n\u001b[32m    254\u001b[39m         \u001b[38;5;28mlen\u001b[39m(\u001b[38;5;28mself\u001b[39m.function_type.flat_outputs),\n\u001b[32m    255\u001b[39m     )\n\u001b[32m    256\u001b[39m   \u001b[38;5;28;01melse\u001b[39;00m:\n\u001b[32m    257\u001b[39m     outputs = make_call_op_in_graph(\n\u001b[32m    258\u001b[39m         \u001b[38;5;28mself\u001b[39m,\n\u001b[32m    259\u001b[39m         \u001b[38;5;28mlist\u001b[39m(args),\n\u001b[32m    260\u001b[39m         \u001b[38;5;28mself\u001b[39m._bound_context.function_call_options.as_attrs(),\n\u001b[32m    261\u001b[39m     )\n",
      "\u001b[36mFile \u001b[39m\u001b[32md:\\Users\\Olunia\\anaconda3\\envs\\new_data_env\\Lib\\site-packages\\tensorflow\\python\\eager\\context.py:1688\u001b[39m, in \u001b[36mContext.call_function\u001b[39m\u001b[34m(self, name, tensor_inputs, num_outputs)\u001b[39m\n\u001b[32m   1686\u001b[39m cancellation_context = cancellation.context()\n\u001b[32m   1687\u001b[39m \u001b[38;5;28;01mif\u001b[39;00m cancellation_context \u001b[38;5;129;01mis\u001b[39;00m \u001b[38;5;28;01mNone\u001b[39;00m:\n\u001b[32m-> \u001b[39m\u001b[32m1688\u001b[39m   outputs = execute.execute(\n\u001b[32m   1689\u001b[39m       name.decode(\u001b[33m\"\u001b[39m\u001b[33mutf-8\u001b[39m\u001b[33m\"\u001b[39m),\n\u001b[32m   1690\u001b[39m       num_outputs=num_outputs,\n\u001b[32m   1691\u001b[39m       inputs=tensor_inputs,\n\u001b[32m   1692\u001b[39m       attrs=attrs,\n\u001b[32m   1693\u001b[39m       ctx=\u001b[38;5;28mself\u001b[39m,\n\u001b[32m   1694\u001b[39m   )\n\u001b[32m   1695\u001b[39m \u001b[38;5;28;01melse\u001b[39;00m:\n\u001b[32m   1696\u001b[39m   outputs = execute.execute_with_cancellation(\n\u001b[32m   1697\u001b[39m       name.decode(\u001b[33m\"\u001b[39m\u001b[33mutf-8\u001b[39m\u001b[33m\"\u001b[39m),\n\u001b[32m   1698\u001b[39m       num_outputs=num_outputs,\n\u001b[32m   (...)\u001b[39m\u001b[32m   1702\u001b[39m       cancellation_manager=cancellation_context,\n\u001b[32m   1703\u001b[39m   )\n",
      "\u001b[36mFile \u001b[39m\u001b[32md:\\Users\\Olunia\\anaconda3\\envs\\new_data_env\\Lib\\site-packages\\tensorflow\\python\\eager\\execute.py:53\u001b[39m, in \u001b[36mquick_execute\u001b[39m\u001b[34m(op_name, num_outputs, inputs, attrs, ctx, name)\u001b[39m\n\u001b[32m     51\u001b[39m \u001b[38;5;28;01mtry\u001b[39;00m:\n\u001b[32m     52\u001b[39m   ctx.ensure_initialized()\n\u001b[32m---> \u001b[39m\u001b[32m53\u001b[39m   tensors = pywrap_tfe.TFE_Py_Execute(ctx._handle, device_name, op_name,\n\u001b[32m     54\u001b[39m                                       inputs, attrs, num_outputs)\n\u001b[32m     55\u001b[39m \u001b[38;5;28;01mexcept\u001b[39;00m core._NotOkStatusException \u001b[38;5;28;01mas\u001b[39;00m e:\n\u001b[32m     56\u001b[39m   \u001b[38;5;28;01mif\u001b[39;00m name \u001b[38;5;129;01mis\u001b[39;00m \u001b[38;5;129;01mnot\u001b[39;00m \u001b[38;5;28;01mNone\u001b[39;00m:\n",
      "\u001b[31mKeyboardInterrupt\u001b[39m: "
     ]
    }
   ],
   "source": [
    "model_filepath = config[\"save_dir_models\"] / f\"{config['model_name']}_best_model.keras\"\n",
    "\n",
    "checkpoint_callback = ModelCheckpoint(\n",
    "    filepath=str(model_filepath),\n",
    "    save_best_only=True,\n",
    "    monitor='val_loss',\n",
    "    mode='min',          \n",
    "    verbose=1\n",
    ")\n",
    "\n",
    "# Let's stop the training when the model stops to learn!\n",
    "early_stopping_callback = EarlyStopping(\n",
    "    monitor='val_loss',\n",
    "    patience=config[\"early_stopping_patience\"],\n",
    "    restore_best_weights=True\n",
    ")\n",
    "\n",
    "callbacks_list = [checkpoint_callback, early_stopping_callback]\n",
    "\n",
    "print(f\"\\nStarting training for model: {config['model_name']}\")\n",
    "\n",
    "history = model.fit(\n",
    "    train_ds,\n",
    "    validation_data=val_ds,\n",
    "    epochs=config[\"epochs\"],\n",
    "    class_weight=class_weight_dict,\n",
    "    callbacks=callbacks_list\n",
    ")\n",
    "\n",
    "utils.plot_and_save_history(history, config)\n",
    "\n",
    "print(f\"\\nTraining finished. The best model was saved to: {model_filepath}\")"
   ]
  },
  {
   "cell_type": "markdown",
   "id": "91902e53",
   "metadata": {},
   "source": [
    "### Evaluate the model"
   ]
  },
  {
   "cell_type": "code",
   "execution_count": 14,
   "id": "d8f140c6",
   "metadata": {},
   "outputs": [
    {
     "name": "stdout",
     "output_type": "stream",
     "text": [
      "\n",
      "--- Step 7: Evaluating the Best Model ---\n",
      "Loading best model from: D:\\DataScienceKurs\\retinopathy-classifier\\models\\retina_classifier_v1_best_model.keras\n",
      "\n",
      "Evaluating the final model on the test set...\n",
      "\n",
      "Test Set Accuracy: 0.4538\n",
      "Test Set Loss: 1.4102\n",
      "8/8 [==============================] - 2s 239ms/step\n",
      "\n",
      "Classification Report:\n",
      "              precision    recall  f1-score   support\n",
      "\n",
      "     grade_0       0.54      0.75      0.63        55\n",
      "     grade_1       0.00      0.00      0.00        15\n",
      "     grade_2       0.29      0.46      0.35        24\n",
      "     grade_3       0.40      0.08      0.13        25\n",
      "\n",
      "    accuracy                           0.45       119\n",
      "   macro avg       0.31      0.32      0.28       119\n",
      "weighted avg       0.39      0.45      0.39       119\n",
      "\n",
      "\n",
      "Confusion Matrix:\n"
     ]
    },
    {
     "name": "stderr",
     "output_type": "stream",
     "text": [
      "d:\\Users\\Olunia\\anaconda3\\envs\\new_data_env\\Lib\\site-packages\\sklearn\\metrics\\_classification.py:1706: UndefinedMetricWarning: Precision is ill-defined and being set to 0.0 in labels with no predicted samples. Use `zero_division` parameter to control this behavior.\n",
      "  _warn_prf(average, modifier, f\"{metric.capitalize()} is\", result.shape[0])\n",
      "d:\\Users\\Olunia\\anaconda3\\envs\\new_data_env\\Lib\\site-packages\\sklearn\\metrics\\_classification.py:1706: UndefinedMetricWarning: Precision is ill-defined and being set to 0.0 in labels with no predicted samples. Use `zero_division` parameter to control this behavior.\n",
      "  _warn_prf(average, modifier, f\"{metric.capitalize()} is\", result.shape[0])\n",
      "d:\\Users\\Olunia\\anaconda3\\envs\\new_data_env\\Lib\\site-packages\\sklearn\\metrics\\_classification.py:1706: UndefinedMetricWarning: Precision is ill-defined and being set to 0.0 in labels with no predicted samples. Use `zero_division` parameter to control this behavior.\n",
      "  _warn_prf(average, modifier, f\"{metric.capitalize()} is\", result.shape[0])\n"
     ]
    },
    {
     "data": {
      "image/png": "[encoded data removed]",
      "text/plain": [
       "<Figure size 800x600 with 2 Axes>"
      ]
     },
     "metadata": {},
     "output_type": "display_data"
    }
   ],
   "source": [
    "print(f\"\\n--- Step 7: Evaluating the Best Model ---\")\n",
    "print(f\"Loading best model from: {model_filepath}\")\n",
    "best_model = load_model(model_filepath)\n",
    "\n",
    "# 2. Evaluate its performance (loss and accuracy) on the test set\n",
    "print(\"\\nEvaluating the final model on the test set...\")\n",
    "test_loss, test_accuracy = best_model.evaluate(test_ds, verbose=0)\n",
    "print(f\"\\nTest Set Accuracy: {test_accuracy:.4f}\")\n",
    "print(f\"Test Set Loss: {test_loss:.4f}\")\n",
    "\n",
    "# 3. Generate predictions to create a detailed report and confusion matrix\n",
    "# First, get the true labels from the test dataset\n",
    "y_true = np.concatenate([y for x, y in test_ds], axis=0)\n",
    "# Second, get the model's predictions\n",
    "y_pred_probs = best_model.predict(test_ds)\n",
    "# Convert prediction probabilities to class labels (0, 1, 2, or 3)\n",
    "y_pred = np.argmax(y_pred_probs, axis=1)\n",
    "\n",
    "# 4. Print the Classification Report\n",
    "print(\"\\nClassification Report:\")\n",
    "# The typo is fixed here:\n",
    "print(classification_report(y_true, y_pred, target_names=config[\"class_names\"]))\n",
    "\n",
    "# 5. Create and display the Confusion Matrix\n",
    "print(\"\\nConfusion Matrix:\")\n",
    "cm = confusion_matrix(y_true, y_pred)\n",
    "plt.figure(figsize=(8, 6))\n",
    "sns.heatmap(cm, annot=True, fmt='d', cmap='Blues', \n",
    "            xticklabels=config[\"class_names\"], \n",
    "            yticklabels=config[\"class_names\"])\n",
    "plt.title('Confusion Matrix', fontsize=16)\n",
    "plt.ylabel('True Label', fontsize=12)\n",
    "plt.xlabel('Predicted Label', fontsize=12)\n",
    "plt.show()\n"
   ]
  }
 ],
 "metadata": {
  "kernelspec": {
   "display_name": "new_data_env",
   "language": "python",
   "name": "python3"
  },
  "language_info": {
   "codemirror_mode": {
    "name": "ipython",
    "version": 3
   },
   "file_extension": ".py",
   "mimetype": "text/x-python",
   "name": "python",
   "nbconvert_exporter": "python",
   "pygments_lexer": "ipython3",
   "version": "3.11.13"
  }
 },
 "nbformat": 4,
 "nbformat_minor": 5
}
